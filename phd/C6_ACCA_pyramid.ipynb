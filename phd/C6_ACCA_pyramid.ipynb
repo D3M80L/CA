{
 "cells": [
  {
   "cell_type": "markdown",
   "metadata": {},
   "source": [
    "Location of the points in the pyramid $P$ corresponding to ACCAs with the lowest convergence time for a given threshold $\\rho_0$, for configurations of $n=23$ cells in the entire pyramid $P$."
   ]
  },
  {
   "cell_type": "code",
   "execution_count": 1,
   "metadata": {},
   "outputs": [],
   "source": [
    "import matplotlib.pyplot as plt\n",
    "import numpy as np\n",
    "\n",
    "from ipywidgets import interact, FloatSlider"
   ]
  },
  {
   "cell_type": "code",
   "execution_count": 2,
   "metadata": {},
   "outputs": [],
   "source": [
    "data = np.genfromtxt('./data/n23rho.dat', delimiter=';')"
   ]
  },
  {
   "cell_type": "code",
   "execution_count": 3,
   "metadata": {},
   "outputs": [],
   "source": [
    "def pyramid(c_min=0, c_max=0.07):\n",
    "    fig = plt.figure(figsize=(12,8), dpi= 100)\n",
    "    ax = fig.add_subplot(111, projection='3d')\n",
    "    \n",
    "    filtered = np.asarray([x for x in data if (x[3] >= c_min) and (x[3] <= c_max)])\n",
    "\n",
    "    if (filtered.any()):\n",
    "        a = filtered[:,1]\n",
    "        b = filtered[:,2]\n",
    "        c = filtered[:,3]\n",
    "        v = filtered[:,0]\n",
    "\n",
    "        sc = ax.scatter(a,b,c, c=v, vmin=0, vmax=1, cmap='summer')\n",
    "        cb = fig.colorbar(sc, ax = ax, location='left', shrink=0.5)\n",
    "        cb.set_ticks([0, 0.5, 1])\n",
    "        cb.set_label(r'$\\rho_0$')\n",
    "\n",
    "    ax.set_xlabel('b')\n",
    "    ax.set_ylabel('a')\n",
    "    ax.set_zlabel('c')\n",
    "    ax.set_xlim(0, 1)\n",
    "    ax.set_ylim(0, 1)\n",
    "    ax.set_zlim(0, 1)\n",
    "    tics = [0,0.25,0.5,0.75,1]\n",
    "    tics_labels = ['0','','0.5','','1']\n",
    "    ax.set_xticks(tics, labels=tics_labels)\n",
    "    ax.set_yticks(tics, labels=tics_labels)\n",
    "    ax.set_zticks(tics, labels=tics_labels)\n",
    "    ax.xaxis.pane.fill = False\n",
    "    ax.yaxis.pane.fill = False\n",
    "    ax.zaxis.pane.fill = False\n",
    "    \n",
    "    ax.view_init(elev=20., azim=40)\n",
    "\n",
    "    plt.show()"
   ]
  },
  {
   "cell_type": "code",
   "execution_count": 4,
   "metadata": {},
   "outputs": [
    {
     "data": {
      "application/vnd.jupyter.widget-view+json": {
       "model_id": "45742dc581464875994e3cbe430788d6",
       "version_major": 2,
       "version_minor": 0
      },
      "text/plain": [
       "interactive(children=(FloatSlider(value=0.02, continuous_update=False, description='$c_{min}$', max=0.07, min=…"
      ]
     },
     "metadata": {},
     "output_type": "display_data"
    }
   ],
   "source": [
    "interact(pyramid, \n",
    "         c_min=FloatSlider(min=0.02, max=0.07, step=0.01, value=0.02, continuous_update=False, description=r'$c_{min}$'),\n",
    "         c_max=FloatSlider(min=0.02, max=0.07, step=0.01, value=0.07, continuous_update=False, description=r'$c_{max}$'));"
   ]
  },
  {
   "cell_type": "code",
   "execution_count": null,
   "metadata": {},
   "outputs": [],
   "source": []
  }
 ],
 "metadata": {
  "kernelspec": {
   "display_name": "Python 3 (ipykernel)",
   "language": "python",
   "name": "python3"
  },
  "language_info": {
   "codemirror_mode": {
    "name": "ipython",
    "version": 3
   },
   "file_extension": ".py",
   "mimetype": "text/x-python",
   "name": "python",
   "nbconvert_exporter": "python",
   "pygments_lexer": "ipython3",
   "version": "3.8.10"
  }
 },
 "nbformat": 4,
 "nbformat_minor": 4
}
