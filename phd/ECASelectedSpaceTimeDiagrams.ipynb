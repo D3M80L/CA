{
 "cells": [
  {
   "cell_type": "markdown",
   "metadata": {},
   "source": [
    "Space-time diagrams of selected ECAs for the same initial configuration $\\mathbf{x}=(0)^3(10)^3(1)^5(0)^{11}$."
   ]
  },
  {
   "cell_type": "code",
   "execution_count": 1,
   "metadata": {},
   "outputs": [],
   "source": [
    "import catools as catools\n",
    "import matplotlib.pyplot as plt\n",
    "import numpy as np"
   ]
  },
  {
   "cell_type": "markdown",
   "metadata": {},
   "source": [
    "Rule $\\mathbb{f}$: ECA184"
   ]
  },
  {
   "cell_type": "code",
   "execution_count": 2,
   "metadata": {},
   "outputs": [
    {
     "data": {
      "text/html": [
       "<table style='border: 1px solid black;border-collapse: collapse;width:100%'><caption>LUT representation</caption><tr><td style=\"text-align:center;border: 1px solid black\">$l_{0}$</td><td style=\"text-align:center;border: 1px solid black\">$l_{1}$</td><td style=\"text-align:center;border: 1px solid black\">$l_{2}$</td><td style=\"text-align:center;border: 1px solid black\">$l_{3}$</td><td style=\"text-align:center;border: 1px solid black\">$l_{4}$</td><td style=\"text-align:center;border: 1px solid black\">$l_{5}$</td><td style=\"text-align:center;border: 1px solid black\">$l_{6}$</td><td style=\"text-align:center;border: 1px solid black\">$l_{7}$</td></tr><tr><td style=\"text-align:center;border: 1px solid black\">$0$</td><td style=\"text-align:center;border: 1px solid black\">$0$</td><td style=\"text-align:center;border: 1px solid black\">$0$</td><td style=\"text-align:center;border: 1px solid black\">$1$</td><td style=\"text-align:center;border: 1px solid black\">$1$</td><td style=\"text-align:center;border: 1px solid black\">$1$</td><td style=\"text-align:center;border: 1px solid black\">$0$</td><td style=\"text-align:center;border: 1px solid black\">$1$</td></tr></table>"
      ],
      "text/plain": [
       "<IPython.core.display.HTML object>"
      ]
     },
     "execution_count": 2,
     "metadata": {},
     "output_type": "execute_result"
    }
   ],
   "source": [
    "eca184_lut = [0,0,0,1,1,1,0,1]\n",
    "catools.display_lut(eca184_lut)"
   ]
  },
  {
   "cell_type": "markdown",
   "metadata": {},
   "source": [
    "Rule $\\mathbb{f}^I$: ECA170"
   ]
  },
  {
   "cell_type": "code",
   "execution_count": 3,
   "metadata": {},
   "outputs": [
    {
     "data": {
      "text/html": [
       "<table style='border: 1px solid black;border-collapse: collapse;width:100%'><caption>LUT representation</caption><tr><td style=\"text-align:center;border: 1px solid black\">$l_{0}$</td><td style=\"text-align:center;border: 1px solid black\">$l_{1}$</td><td style=\"text-align:center;border: 1px solid black\">$l_{2}$</td><td style=\"text-align:center;border: 1px solid black\">$l_{3}$</td><td style=\"text-align:center;border: 1px solid black\">$l_{4}$</td><td style=\"text-align:center;border: 1px solid black\">$l_{5}$</td><td style=\"text-align:center;border: 1px solid black\">$l_{6}$</td><td style=\"text-align:center;border: 1px solid black\">$l_{7}$</td></tr><tr><td style=\"text-align:center;border: 1px solid black\">$0$</td><td style=\"text-align:center;border: 1px solid black\">$1$</td><td style=\"text-align:center;border: 1px solid black\">$0$</td><td style=\"text-align:center;border: 1px solid black\">$1$</td><td style=\"text-align:center;border: 1px solid black\">$0$</td><td style=\"text-align:center;border: 1px solid black\">$1$</td><td style=\"text-align:center;border: 1px solid black\">$0$</td><td style=\"text-align:center;border: 1px solid black\">$1$</td></tr></table>"
      ],
      "text/plain": [
       "<IPython.core.display.HTML object>"
      ]
     },
     "execution_count": 3,
     "metadata": {},
     "output_type": "execute_result"
    }
   ],
   "source": [
    "eca170_lut = [0,1,0,1,0,1,0,1]\n",
    "catools.display_lut(eca170_lut)"
   ]
  },
  {
   "cell_type": "markdown",
   "metadata": {},
   "source": [
    "Rule $\\mathbb{f}^C$: ECA232"
   ]
  },
  {
   "cell_type": "code",
   "execution_count": 4,
   "metadata": {},
   "outputs": [
    {
     "data": {
      "text/html": [
       "<table style='border: 1px solid black;border-collapse: collapse;width:100%'><caption>LUT representation</caption><tr><td style=\"text-align:center;border: 1px solid black\">$l_{0}$</td><td style=\"text-align:center;border: 1px solid black\">$l_{1}$</td><td style=\"text-align:center;border: 1px solid black\">$l_{2}$</td><td style=\"text-align:center;border: 1px solid black\">$l_{3}$</td><td style=\"text-align:center;border: 1px solid black\">$l_{4}$</td><td style=\"text-align:center;border: 1px solid black\">$l_{5}$</td><td style=\"text-align:center;border: 1px solid black\">$l_{6}$</td><td style=\"text-align:center;border: 1px solid black\">$l_{7}$</td></tr><tr><td style=\"text-align:center;border: 1px solid black\">$0$</td><td style=\"text-align:center;border: 1px solid black\">$0$</td><td style=\"text-align:center;border: 1px solid black\">$0$</td><td style=\"text-align:center;border: 1px solid black\">$1$</td><td style=\"text-align:center;border: 1px solid black\">$0$</td><td style=\"text-align:center;border: 1px solid black\">$1$</td><td style=\"text-align:center;border: 1px solid black\">$1$</td><td style=\"text-align:center;border: 1px solid black\">$1$</td></tr></table>"
      ],
      "text/plain": [
       "<IPython.core.display.HTML object>"
      ]
     },
     "execution_count": 4,
     "metadata": {},
     "output_type": "execute_result"
    }
   ],
   "source": [
    "eca232_lut = [0,0,0,1,0,1,1,1]\n",
    "catools.display_lut(eca232_lut)"
   ]
  },
  {
   "cell_type": "markdown",
   "metadata": {},
   "source": [
    "Rule $\\mathbb{f}^{IC}$: ECA30"
   ]
  },
  {
   "cell_type": "code",
   "execution_count": 5,
   "metadata": {},
   "outputs": [
    {
     "data": {
      "text/html": [
       "<table style='border: 1px solid black;border-collapse: collapse;width:100%'><caption>LUT representation</caption><tr><td style=\"text-align:center;border: 1px solid black\">$l_{0}$</td><td style=\"text-align:center;border: 1px solid black\">$l_{1}$</td><td style=\"text-align:center;border: 1px solid black\">$l_{2}$</td><td style=\"text-align:center;border: 1px solid black\">$l_{3}$</td><td style=\"text-align:center;border: 1px solid black\">$l_{4}$</td><td style=\"text-align:center;border: 1px solid black\">$l_{5}$</td><td style=\"text-align:center;border: 1px solid black\">$l_{6}$</td><td style=\"text-align:center;border: 1px solid black\">$l_{7}$</td></tr><tr><td style=\"text-align:center;border: 1px solid black\">$0$</td><td style=\"text-align:center;border: 1px solid black\">$1$</td><td style=\"text-align:center;border: 1px solid black\">$1$</td><td style=\"text-align:center;border: 1px solid black\">$1$</td><td style=\"text-align:center;border: 1px solid black\">$1$</td><td style=\"text-align:center;border: 1px solid black\">$0$</td><td style=\"text-align:center;border: 1px solid black\">$0$</td><td style=\"text-align:center;border: 1px solid black\">$0$</td></tr></table>"
      ],
      "text/plain": [
       "<IPython.core.display.HTML object>"
      ]
     },
     "execution_count": 5,
     "metadata": {},
     "output_type": "execute_result"
    }
   ],
   "source": [
    "eca30_lut = [0,1,1,1,1,0,0,0]\n",
    "catools.display_lut(eca30_lut)"
   ]
  },
  {
   "cell_type": "markdown",
   "metadata": {},
   "source": [
    "Rule $\\mathbb{f}^{IC}$: ECA110"
   ]
  },
  {
   "cell_type": "code",
   "execution_count": 6,
   "metadata": {},
   "outputs": [
    {
     "data": {
      "text/html": [
       "<table style='border: 1px solid black;border-collapse: collapse;width:100%'><caption>LUT representation</caption><tr><td style=\"text-align:center;border: 1px solid black\">$l_{0}$</td><td style=\"text-align:center;border: 1px solid black\">$l_{1}$</td><td style=\"text-align:center;border: 1px solid black\">$l_{2}$</td><td style=\"text-align:center;border: 1px solid black\">$l_{3}$</td><td style=\"text-align:center;border: 1px solid black\">$l_{4}$</td><td style=\"text-align:center;border: 1px solid black\">$l_{5}$</td><td style=\"text-align:center;border: 1px solid black\">$l_{6}$</td><td style=\"text-align:center;border: 1px solid black\">$l_{7}$</td></tr><tr><td style=\"text-align:center;border: 1px solid black\">$0$</td><td style=\"text-align:center;border: 1px solid black\">$1$</td><td style=\"text-align:center;border: 1px solid black\">$1$</td><td style=\"text-align:center;border: 1px solid black\">$1$</td><td style=\"text-align:center;border: 1px solid black\">$0$</td><td style=\"text-align:center;border: 1px solid black\">$1$</td><td style=\"text-align:center;border: 1px solid black\">$1$</td><td style=\"text-align:center;border: 1px solid black\">$0$</td></tr></table>"
      ],
      "text/plain": [
       "<IPython.core.display.HTML object>"
      ]
     },
     "execution_count": 6,
     "metadata": {},
     "output_type": "execute_result"
    }
   ],
   "source": [
    "eca110_lut = [0,1,1,1,0,1,1,0]\n",
    "catools.display_lut(eca110_lut)"
   ]
  },
  {
   "cell_type": "markdown",
   "metadata": {},
   "source": [
    "Space-time diagrams for the above rules and configuration"
   ]
  },
  {
   "cell_type": "code",
   "execution_count": 7,
   "metadata": {},
   "outputs": [
    {
     "data": {
      "image/png": "[encoded data removed]",
      "text/plain": [
       "<Figure size 720x720 with 5 Axes>"
      ]
     },
     "metadata": {},
     "output_type": "display_data"
    }
   ],
   "source": [
    "configuration = catools.parse_1d_configuration(\"0;0;0;1;0;1;0;1;0;1;1;1;1;1;0;0;0;0;0;0;0;0;0;0;0\")\n",
    "\n",
    "T = 100\n",
    "\n",
    "fig, (ax1, ax2, ax3, ax4, ax5) = plt.subplots(1, 5)\n",
    "fig.set_size_inches(10, 10)\n",
    "catools.plot_spacetime(list(catools.iterate_1dconfiguration_to(configuration, eca184_lut, T)), ax=ax1)\n",
    "catools.plot_spacetime(list(catools.iterate_1dconfiguration_to(configuration, eca170_lut, T)), ax=ax2)\n",
    "catools.plot_spacetime(list(catools.iterate_1dconfiguration_to(configuration, eca232_lut, T)), ax=ax3)\n",
    "catools.plot_spacetime(list(catools.iterate_1dconfiguration_to(configuration, eca30_lut, T)), ax=ax4)\n",
    "catools.plot_spacetime(list(catools.iterate_1dconfiguration_to(configuration, eca110_lut, T)), ax=ax5)"
   ]
  }
 ],
 "metadata": {
  "kernelspec": {
   "display_name": "Python 3 (ipykernel)",
   "language": "python",
   "name": "python3"
  },
  "language_info": {
   "codemirror_mode": {
    "name": "ipython",
    "version": 3
   },
   "file_extension": ".py",
   "mimetype": "text/x-python",
   "name": "python",
   "nbconvert_exporter": "python",
   "pygments_lexer": "ipython3",
   "version": "3.10.4"
  },
  "vscode": {
   "interpreter": {
    "hash": "31f2aee4e71d21fbe5cf8b01ff0e069b9275f58929596ceb00d14d90e3e16cd6"
   }
  }
 },
 "nbformat": 4,
 "nbformat_minor": 4
}
